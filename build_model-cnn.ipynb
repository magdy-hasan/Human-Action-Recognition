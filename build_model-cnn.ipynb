{
 "cells": [
  {
   "cell_type": "code",
   "execution_count": 1,
   "metadata": {},
   "outputs": [
    {
     "name": "stderr",
     "output_type": "stream",
     "text": [
      "Using TensorFlow backend.\n"
     ]
    }
   ],
   "source": [
    "from keras.layers import Dense, Activation, Dropout, Conv1D, Flatten\n",
    "from keras.models import Sequential\n",
    "import numpy as np\n",
    "import matplotlib.pyplot as plt\n",
    "from keras import regularizers"
   ]
  },
  {
   "cell_type": "code",
   "execution_count": 2,
   "metadata": {},
   "outputs": [],
   "source": [
    "import tensorflow as tf\n",
    "from keras.backend.tensorflow_backend import set_session\n",
    "config = tf.ConfigProto()\n",
    "config.gpu_options.allow_growth = True  # dynamically grow the memory used on the GPU\n",
    "config.log_device_placement = True  # to log device placement (on which device the operation ran)\n",
    "                                    # (nothing gets printed in Jupyter, only if you run it standalone)\n",
    "sess = tf.Session(config=config)\n",
    "set_session(sess)  # set this TensorFlow "
   ]
  },
  {
   "cell_type": "markdown",
   "metadata": {},
   "source": [
    "### build model"
   ]
  },
  {
   "cell_type": "code",
   "execution_count": 3,
   "metadata": {},
   "outputs": [
    {
     "name": "stdout",
     "output_type": "stream",
     "text": [
      "WARNING:tensorflow:From /home/magdy/.local/lib/python3.6/site-packages/tensorflow/python/framework/op_def_library.py:263: colocate_with (from tensorflow.python.framework.ops) is deprecated and will be removed in a future version.\n",
      "Instructions for updating:\n",
      "Colocations handled automatically by placer.\n",
      "WARNING:tensorflow:From /home/magdy/.local/lib/python3.6/site-packages/keras/backend/tensorflow_backend.py:3445: calling dropout (from tensorflow.python.ops.nn_ops) with keep_prob is deprecated and will be removed in a future version.\n",
      "Instructions for updating:\n",
      "Please use `rate` instead of `keep_prob`. Rate should be set to `rate = 1 - keep_prob`.\n"
     ]
    }
   ],
   "source": [
    "model = Sequential()\n",
    "#model.add(Conv1D(1024, kernel_size=3, activation='relu', kernel_regularizer=regularizers.l2(0.01), input_shape=(7, 4096)))\n",
    "#model.add(Conv1D(512, kernel_size=3, kernel_regularizer=regularizers.l2(0.01), activation='relu'))\n",
    "model.add(Conv1D(1024, kernel_size=3, activation='relu', input_shape=(7, 4096)))\n",
    "model.add(Conv1D(512, kernel_size=3, activation='relu'))\n",
    "model.add(Flatten())\n",
    "model.add(Dropout(0.6))\n",
    "model.add(Dense(256, activation='relu'))\n",
    "model.add(Dropout(0.8))\n",
    "\n",
    "model.add(Dense(101))\n",
    "\n",
    "model.add(Activation('softmax'))\n",
    "\n",
    "model.compile(loss='categorical_crossentropy', optimizer='rmsprop', metrics=['accuracy'])"
   ]
  },
  {
   "cell_type": "code",
   "execution_count": 4,
   "metadata": {},
   "outputs": [
    {
     "name": "stdout",
     "output_type": "stream",
     "text": [
      "_________________________________________________________________\n",
      "Layer (type)                 Output Shape              Param #   \n",
      "=================================================================\n",
      "conv1d_1 (Conv1D)            (None, 5, 1024)           12583936  \n",
      "_________________________________________________________________\n",
      "conv1d_2 (Conv1D)            (None, 3, 512)            1573376   \n",
      "_________________________________________________________________\n",
      "flatten_1 (Flatten)          (None, 1536)              0         \n",
      "_________________________________________________________________\n",
      "dropout_1 (Dropout)          (None, 1536)              0         \n",
      "_________________________________________________________________\n",
      "dense_1 (Dense)              (None, 256)               393472    \n",
      "_________________________________________________________________\n",
      "dropout_2 (Dropout)          (None, 256)               0         \n",
      "_________________________________________________________________\n",
      "dense_2 (Dense)              (None, 101)               25957     \n",
      "_________________________________________________________________\n",
      "activation_1 (Activation)    (None, 101)               0         \n",
      "=================================================================\n",
      "Total params: 14,576,741\n",
      "Trainable params: 14,576,741\n",
      "Non-trainable params: 0\n",
      "_________________________________________________________________\n"
     ]
    }
   ],
   "source": [
    "model.summary()"
   ]
  },
  {
   "cell_type": "code",
   "execution_count": 5,
   "metadata": {},
   "outputs": [],
   "source": [
    "BATCH_SIZE = 512"
   ]
  },
  {
   "cell_type": "code",
   "execution_count": 6,
   "metadata": {},
   "outputs": [],
   "source": [
    "def generate_batch(x_samples, y_samples):\n",
    "    num_batches = len(x_samples) // BATCH_SIZE\n",
    "\n",
    "    while True:\n",
    "        for batchIdx in range(0, num_batches):\n",
    "            start = batchIdx * BATCH_SIZE\n",
    "            end = (batchIdx + 1) * BATCH_SIZE\n",
    "            yield np.array(x_samples[start:end]), y_samples[start:end]"
   ]
  },
  {
   "cell_type": "code",
   "execution_count": 7,
   "metadata": {},
   "outputs": [],
   "source": [
    "x = np.load('xfe.npy',allow_pickle=True)\n",
    "y = np.load('yfe.npy',allow_pickle=True)"
   ]
  },
  {
   "cell_type": "code",
   "execution_count": 8,
   "metadata": {},
   "outputs": [
    {
     "data": {
      "text/plain": [
       "(13320, 7, 4096)"
      ]
     },
     "execution_count": 8,
     "metadata": {},
     "output_type": "execute_result"
    }
   ],
   "source": [
    "x.shape"
   ]
  },
  {
   "cell_type": "code",
   "execution_count": 9,
   "metadata": {},
   "outputs": [],
   "source": [
    "from sklearn.model_selection import train_test_split\n",
    "from keras.callbacks import ModelCheckpoint"
   ]
  },
  {
   "cell_type": "code",
   "execution_count": 10,
   "metadata": {},
   "outputs": [],
   "source": [
    "Xtrain, Xtest, Ytrain, Ytest = train_test_split(x, y, test_size=0.3,random_state=25)"
   ]
  },
  {
   "cell_type": "code",
   "execution_count": 11,
   "metadata": {},
   "outputs": [],
   "source": [
    "train_gen = generate_batch(Xtrain, Ytrain)\n",
    "test_gen = generate_batch(Xtest, Ytest)"
   ]
  },
  {
   "cell_type": "code",
   "execution_count": 12,
   "metadata": {},
   "outputs": [],
   "source": [
    "train_num_batches = len(Xtrain) // BATCH_SIZE\n",
    "test_num_batches = len(Xtest) // BATCH_SIZE"
   ]
  },
  {
   "cell_type": "code",
   "execution_count": 13,
   "metadata": {},
   "outputs": [],
   "source": [
    "checkpoint = ModelCheckpoint(filepath='weightscnn/model-ep{epoch:03d}-acc{acc:.3f}-val_acc{val_acc:.3f}.h5', save_best_only=True)"
   ]
  },
  {
   "cell_type": "code",
   "execution_count": 14,
   "metadata": {},
   "outputs": [],
   "source": [
    "NUM_EPOCHS = 128"
   ]
  },
  {
   "cell_type": "code",
   "execution_count": 15,
   "metadata": {
    "scrolled": true
   },
   "outputs": [
    {
     "name": "stdout",
     "output_type": "stream",
     "text": [
      "WARNING:tensorflow:From /home/magdy/.local/lib/python3.6/site-packages/tensorflow/python/ops/math_ops.py:3066: to_int32 (from tensorflow.python.ops.math_ops) is deprecated and will be removed in a future version.\n",
      "Instructions for updating:\n",
      "Use tf.cast instead.\n",
      "Epoch 1/128\n",
      "18/18 [==============================] - 7s 366ms/step - loss: 8.8829 - acc: 0.0097 - val_loss: 4.5735 - val_acc: 0.0299\n",
      "Epoch 2/128\n",
      "18/18 [==============================] - 3s 158ms/step - loss: 4.5658 - acc: 0.0250 - val_loss: 4.4440 - val_acc: 0.0798\n",
      "Epoch 3/128\n",
      "18/18 [==============================] - 3s 162ms/step - loss: 4.4371 - acc: 0.0503 - val_loss: 4.0868 - val_acc: 0.1426\n",
      "Epoch 4/128\n",
      "18/18 [==============================] - 3s 163ms/step - loss: 4.1451 - acc: 0.1030 - val_loss: 3.6556 - val_acc: 0.2656\n",
      "Epoch 5/128\n",
      "18/18 [==============================] - 3s 158ms/step - loss: 3.7739 - acc: 0.1683 - val_loss: 3.3648 - val_acc: 0.3002\n",
      "Epoch 6/128\n",
      "18/18 [==============================] - 3s 160ms/step - loss: 3.4312 - acc: 0.2391 - val_loss: 2.8537 - val_acc: 0.3817\n",
      "Epoch 7/128\n",
      "18/18 [==============================] - 3s 171ms/step - loss: 3.0700 - acc: 0.3003 - val_loss: 2.5239 - val_acc: 0.4403\n",
      "Epoch 8/128\n",
      "18/18 [==============================] - 3s 177ms/step - loss: 2.7794 - acc: 0.3526 - val_loss: 2.2311 - val_acc: 0.4609\n",
      "Epoch 9/128\n",
      "18/18 [==============================] - 3s 164ms/step - loss: 2.5205 - acc: 0.3991 - val_loss: 1.9044 - val_acc: 0.5491\n",
      "Epoch 10/128\n",
      "18/18 [==============================] - 3s 163ms/step - loss: 2.2119 - acc: 0.4535 - val_loss: 1.7001 - val_acc: 0.6024\n",
      "Epoch 11/128\n",
      "18/18 [==============================] - 3s 166ms/step - loss: 2.0106 - acc: 0.4952 - val_loss: 1.5300 - val_acc: 0.6297\n",
      "Epoch 12/128\n",
      "18/18 [==============================] - 3s 173ms/step - loss: 1.8011 - acc: 0.5379 - val_loss: 1.3238 - val_acc: 0.6730\n",
      "Epoch 13/128\n",
      "18/18 [==============================] - 3s 166ms/step - loss: 1.6220 - acc: 0.5776 - val_loss: 1.3310 - val_acc: 0.6716\n",
      "Epoch 14/128\n",
      "18/18 [==============================] - 3s 162ms/step - loss: 1.4189 - acc: 0.6182 - val_loss: 1.1855 - val_acc: 0.6964\n",
      "Epoch 15/128\n",
      "18/18 [==============================] - 3s 159ms/step - loss: 1.2776 - acc: 0.6612 - val_loss: 1.1351 - val_acc: 0.7079\n",
      "Epoch 16/128\n",
      "18/18 [==============================] - 3s 170ms/step - loss: 1.1637 - acc: 0.6908 - val_loss: 0.9400 - val_acc: 0.7592\n",
      "Epoch 17/128\n",
      "18/18 [==============================] - 3s 163ms/step - loss: 1.0233 - acc: 0.7270 - val_loss: 1.0072 - val_acc: 0.7422\n",
      "Epoch 18/128\n",
      "18/18 [==============================] - 3s 159ms/step - loss: 0.9366 - acc: 0.7462 - val_loss: 0.8043 - val_acc: 0.7888\n",
      "Epoch 19/128\n",
      "18/18 [==============================] - 3s 159ms/step - loss: 0.8417 - acc: 0.7699 - val_loss: 0.7860 - val_acc: 0.7963\n",
      "Epoch 20/128\n",
      "18/18 [==============================] - 3s 158ms/step - loss: 0.7280 - acc: 0.7921 - val_loss: 0.7714 - val_acc: 0.8069\n",
      "Epoch 21/128\n",
      "18/18 [==============================] - 3s 160ms/step - loss: 0.6799 - acc: 0.8083 - val_loss: 0.7102 - val_acc: 0.8295\n",
      "Epoch 22/128\n",
      "18/18 [==============================] - 3s 161ms/step - loss: 0.5959 - acc: 0.8304 - val_loss: 0.6873 - val_acc: 0.8262\n",
      "Epoch 23/128\n",
      "18/18 [==============================] - 3s 169ms/step - loss: 0.5582 - acc: 0.8446 - val_loss: 0.7524 - val_acc: 0.8234\n",
      "Epoch 24/128\n",
      "18/18 [==============================] - 3s 164ms/step - loss: 0.4948 - acc: 0.8617 - val_loss: 0.6912 - val_acc: 0.8384\n",
      "Epoch 25/128\n",
      "18/18 [==============================] - 3s 158ms/step - loss: 0.4692 - acc: 0.8691 - val_loss: 0.6858 - val_acc: 0.8496\n",
      "Epoch 26/128\n",
      "18/18 [==============================] - 3s 167ms/step - loss: 0.4363 - acc: 0.8797 - val_loss: 0.6713 - val_acc: 0.8482\n",
      "Epoch 27/128\n",
      "18/18 [==============================] - 3s 159ms/step - loss: 0.3496 - acc: 0.9008 - val_loss: 0.5804 - val_acc: 0.8711\n",
      "Epoch 28/128\n",
      "18/18 [==============================] - 3s 161ms/step - loss: 0.3757 - acc: 0.8940 - val_loss: 0.6027 - val_acc: 0.8739\n",
      "Epoch 29/128\n",
      "18/18 [==============================] - 3s 161ms/step - loss: 0.3581 - acc: 0.8998 - val_loss: 0.7288 - val_acc: 0.8566\n",
      "Epoch 30/128\n",
      "18/18 [==============================] - 3s 164ms/step - loss: 0.3491 - acc: 0.9064 - val_loss: 0.6358 - val_acc: 0.8694\n",
      "Epoch 31/128\n",
      "18/18 [==============================] - 3s 169ms/step - loss: 0.2921 - acc: 0.9197 - val_loss: 0.5845 - val_acc: 0.8836\n",
      "Epoch 32/128\n",
      "18/18 [==============================] - 3s 159ms/step - loss: 0.2672 - acc: 0.9230 - val_loss: 0.6444 - val_acc: 0.8758\n",
      "Epoch 33/128\n",
      "18/18 [==============================] - 3s 161ms/step - loss: 0.2391 - acc: 0.9336 - val_loss: 0.6806 - val_acc: 0.8789\n",
      "Epoch 34/128\n",
      "18/18 [==============================] - 3s 159ms/step - loss: 0.2777 - acc: 0.9243 - val_loss: 0.5965 - val_acc: 0.8901\n",
      "Epoch 35/128\n",
      "18/18 [==============================] - 3s 162ms/step - loss: 0.2252 - acc: 0.9377 - val_loss: 0.6765 - val_acc: 0.8823\n",
      "Epoch 36/128\n",
      "18/18 [==============================] - 3s 159ms/step - loss: 0.2211 - acc: 0.9363 - val_loss: 0.5883 - val_acc: 0.8917\n",
      "Epoch 37/128\n",
      "18/18 [==============================] - 3s 156ms/step - loss: 0.2233 - acc: 0.9441 - val_loss: 0.6964 - val_acc: 0.8898\n",
      "Epoch 38/128\n",
      "18/18 [==============================] - 3s 160ms/step - loss: 0.1971 - acc: 0.9464 - val_loss: 0.6244 - val_acc: 0.8959\n",
      "Epoch 39/128\n",
      "18/18 [==============================] - 3s 163ms/step - loss: 0.1818 - acc: 0.9506 - val_loss: 0.8701 - val_acc: 0.8583\n",
      "Epoch 40/128\n",
      "18/18 [==============================] - 3s 160ms/step - loss: 0.1920 - acc: 0.9480 - val_loss: 0.6204 - val_acc: 0.9037\n",
      "Epoch 41/128\n",
      "18/18 [==============================] - 3s 162ms/step - loss: 0.1710 - acc: 0.9548 - val_loss: 0.7227 - val_acc: 0.8881\n",
      "Epoch 42/128\n",
      "18/18 [==============================] - 3s 161ms/step - loss: 0.1824 - acc: 0.9558 - val_loss: 0.6544 - val_acc: 0.9007\n",
      "Epoch 43/128\n",
      "18/18 [==============================] - 3s 162ms/step - loss: 0.1770 - acc: 0.9552 - val_loss: 0.6975 - val_acc: 0.8892\n",
      "Epoch 44/128\n",
      "18/18 [==============================] - 3s 169ms/step - loss: 0.1494 - acc: 0.9629 - val_loss: 0.7160 - val_acc: 0.8901\n",
      "Epoch 45/128\n",
      "18/18 [==============================] - 3s 169ms/step - loss: 0.1913 - acc: 0.9531 - val_loss: 0.5705 - val_acc: 0.9107\n",
      "Epoch 46/128\n",
      "18/18 [==============================] - 3s 161ms/step - loss: 0.1263 - acc: 0.9678 - val_loss: 0.6566 - val_acc: 0.8993\n",
      "Epoch 47/128\n",
      "18/18 [==============================] - 3s 163ms/step - loss: 0.1356 - acc: 0.9642 - val_loss: 0.7555 - val_acc: 0.8984\n",
      "Epoch 48/128\n",
      "18/18 [==============================] - 3s 164ms/step - loss: 0.1370 - acc: 0.9655 - val_loss: 0.6537 - val_acc: 0.9046\n",
      "Epoch 49/128\n",
      "18/18 [==============================] - 3s 161ms/step - loss: 0.1274 - acc: 0.9678 - val_loss: 0.6056 - val_acc: 0.9096\n",
      "Epoch 50/128\n",
      "18/18 [==============================] - 3s 162ms/step - loss: 0.1621 - acc: 0.9614 - val_loss: 0.6987 - val_acc: 0.8881\n",
      "Epoch 51/128\n",
      "18/18 [==============================] - 3s 165ms/step - loss: 0.1523 - acc: 0.9648 - val_loss: 0.6994 - val_acc: 0.9012\n",
      "Epoch 52/128\n",
      "18/18 [==============================] - 3s 163ms/step - loss: 0.1411 - acc: 0.9666 - val_loss: 0.7058 - val_acc: 0.8968\n",
      "Epoch 53/128\n",
      "18/18 [==============================] - 3s 165ms/step - loss: 0.1103 - acc: 0.9717 - val_loss: 0.7362 - val_acc: 0.9018\n",
      "Epoch 54/128\n",
      "18/18 [==============================] - 3s 156ms/step - loss: 0.1393 - acc: 0.9647 - val_loss: 0.6200 - val_acc: 0.9088\n",
      "Epoch 55/128\n",
      "18/18 [==============================] - 3s 165ms/step - loss: 0.1113 - acc: 0.9710 - val_loss: 0.7674 - val_acc: 0.8976\n",
      "Epoch 56/128\n",
      "18/18 [==============================] - 3s 165ms/step - loss: 0.1151 - acc: 0.9685 - val_loss: 0.6778 - val_acc: 0.9054\n",
      "Epoch 57/128\n",
      "18/18 [==============================] - 3s 159ms/step - loss: 0.1134 - acc: 0.9721 - val_loss: 0.6928 - val_acc: 0.9054\n",
      "Epoch 58/128\n",
      "18/18 [==============================] - 3s 162ms/step - loss: 0.1162 - acc: 0.9710 - val_loss: 0.6427 - val_acc: 0.9102\n",
      "Epoch 59/128\n",
      "18/18 [==============================] - 3s 163ms/step - loss: 0.0954 - acc: 0.9757 - val_loss: 0.7506 - val_acc: 0.9023\n",
      "Epoch 60/128\n",
      "18/18 [==============================] - 3s 163ms/step - loss: 0.1255 - acc: 0.9725 - val_loss: 0.7575 - val_acc: 0.8993\n",
      "Epoch 61/128\n",
      "18/18 [==============================] - 3s 163ms/step - loss: 0.1078 - acc: 0.9742 - val_loss: 0.6929 - val_acc: 0.9143\n",
      "Epoch 62/128\n",
      "18/18 [==============================] - 3s 165ms/step - loss: 0.1126 - acc: 0.9753 - val_loss: 0.7336 - val_acc: 0.9104\n",
      "Epoch 63/128\n",
      "18/18 [==============================] - 3s 161ms/step - loss: 0.1162 - acc: 0.9727 - val_loss: 0.6498 - val_acc: 0.9155\n",
      "Epoch 64/128\n",
      "18/18 [==============================] - 3s 166ms/step - loss: 0.1074 - acc: 0.9753 - val_loss: 0.7410 - val_acc: 0.9015\n",
      "Epoch 65/128\n",
      "18/18 [==============================] - 3s 163ms/step - loss: 0.0851 - acc: 0.9772 - val_loss: 0.9884 - val_acc: 0.8915\n",
      "Epoch 66/128\n",
      "18/18 [==============================] - 3s 165ms/step - loss: 0.1403 - acc: 0.9712 - val_loss: 0.7548 - val_acc: 0.9071\n",
      "Epoch 67/128\n",
      "18/18 [==============================] - 3s 169ms/step - loss: 0.0828 - acc: 0.9797 - val_loss: 0.8364 - val_acc: 0.8962\n",
      "Epoch 68/128\n",
      "18/18 [==============================] - 3s 169ms/step - loss: 0.0997 - acc: 0.9779 - val_loss: 0.7378 - val_acc: 0.9035\n",
      "Epoch 69/128\n",
      "18/18 [==============================] - 3s 169ms/step - loss: 0.1396 - acc: 0.9720 - val_loss: 0.7173 - val_acc: 0.9118\n",
      "Epoch 70/128\n",
      "18/18 [==============================] - 3s 176ms/step - loss: 0.0935 - acc: 0.9809 - val_loss: 0.8129 - val_acc: 0.9026\n",
      "Epoch 71/128\n",
      "18/18 [==============================] - 3s 163ms/step - loss: 0.1665 - acc: 0.9673 - val_loss: 0.7403 - val_acc: 0.9118\n",
      "Epoch 72/128\n",
      "18/18 [==============================] - 3s 159ms/step - loss: 0.0797 - acc: 0.9817 - val_loss: 0.7138 - val_acc: 0.9185\n",
      "Epoch 73/128\n",
      "18/18 [==============================] - 3s 161ms/step - loss: 0.1086 - acc: 0.9773 - val_loss: 0.8273 - val_acc: 0.9043\n",
      "Epoch 74/128\n",
      "18/18 [==============================] - 3s 160ms/step - loss: 0.0853 - acc: 0.9803 - val_loss: 0.7813 - val_acc: 0.9029\n",
      "Epoch 75/128\n",
      "18/18 [==============================] - 3s 159ms/step - loss: 0.0973 - acc: 0.9783 - val_loss: 0.7975 - val_acc: 0.9096\n",
      "Epoch 76/128\n",
      "18/18 [==============================] - 3s 160ms/step - loss: 0.1195 - acc: 0.9763 - val_loss: 0.7424 - val_acc: 0.9129\n",
      "Epoch 77/128\n",
      "18/18 [==============================] - 3s 165ms/step - loss: 0.1078 - acc: 0.9782 - val_loss: 0.8423 - val_acc: 0.8987\n",
      "Epoch 78/128\n",
      "18/18 [==============================] - 3s 166ms/step - loss: 0.0750 - acc: 0.9846 - val_loss: 0.7265 - val_acc: 0.9174\n",
      "Epoch 79/128\n",
      "18/18 [==============================] - 3s 172ms/step - loss: 0.1070 - acc: 0.9779 - val_loss: 0.8231 - val_acc: 0.9049\n",
      "Epoch 80/128\n",
      "18/18 [==============================] - 3s 166ms/step - loss: 0.0990 - acc: 0.9800 - val_loss: 0.7359 - val_acc: 0.9104\n",
      "Epoch 81/128\n",
      "18/18 [==============================] - 3s 164ms/step - loss: 0.0707 - acc: 0.9833 - val_loss: 0.7361 - val_acc: 0.9149\n",
      "Epoch 82/128\n",
      "18/18 [==============================] - 3s 164ms/step - loss: 0.1078 - acc: 0.9759 - val_loss: 0.7042 - val_acc: 0.9146\n",
      "Epoch 83/128\n",
      "18/18 [==============================] - 3s 170ms/step - loss: 0.0843 - acc: 0.9831 - val_loss: 0.8243 - val_acc: 0.9057\n",
      "Epoch 84/128\n",
      "18/18 [==============================] - 3s 166ms/step - loss: 0.1147 - acc: 0.9746 - val_loss: 0.7180 - val_acc: 0.9210\n",
      "Epoch 85/128\n",
      "18/18 [==============================] - 3s 167ms/step - loss: 0.0977 - acc: 0.9799 - val_loss: 0.8655 - val_acc: 0.9049\n",
      "Epoch 86/128\n",
      "18/18 [==============================] - 3s 161ms/step - loss: 0.0933 - acc: 0.9807 - val_loss: 0.7601 - val_acc: 0.9132\n",
      "Epoch 87/128\n",
      "18/18 [==============================] - 3s 163ms/step - loss: 0.0788 - acc: 0.9821 - val_loss: 0.7513 - val_acc: 0.9163\n",
      "Epoch 88/128\n",
      "18/18 [==============================] - 3s 163ms/step - loss: 0.1126 - acc: 0.9781 - val_loss: 0.8902 - val_acc: 0.9012\n",
      "Epoch 89/128\n",
      "18/18 [==============================] - 3s 162ms/step - loss: 0.0976 - acc: 0.9794 - val_loss: 0.7948 - val_acc: 0.9113\n",
      "Epoch 90/128\n",
      "18/18 [==============================] - 3s 160ms/step - loss: 0.0930 - acc: 0.9814 - val_loss: 0.9339 - val_acc: 0.9054\n",
      "Epoch 91/128\n",
      "18/18 [==============================] - 3s 159ms/step - loss: 0.0812 - acc: 0.9818 - val_loss: 0.7438 - val_acc: 0.9177\n",
      "Epoch 92/128\n",
      "18/18 [==============================] - 3s 160ms/step - loss: 0.0973 - acc: 0.9816 - val_loss: 0.8451 - val_acc: 0.9065\n",
      "Epoch 93/128\n",
      "18/18 [==============================] - 3s 164ms/step - loss: 0.0967 - acc: 0.9821 - val_loss: 0.9257 - val_acc: 0.9040\n",
      "Epoch 94/128\n",
      "18/18 [==============================] - 3s 164ms/step - loss: 0.1010 - acc: 0.9809 - val_loss: 0.8219 - val_acc: 0.9102\n",
      "Epoch 95/128\n",
      "18/18 [==============================] - 3s 159ms/step - loss: 0.0979 - acc: 0.9799 - val_loss: 0.7518 - val_acc: 0.9177\n",
      "Epoch 96/128\n",
      "18/18 [==============================] - 3s 159ms/step - loss: 0.0897 - acc: 0.9827 - val_loss: 0.9086 - val_acc: 0.8984\n",
      "Epoch 97/128\n",
      "18/18 [==============================] - 3s 160ms/step - loss: 0.0645 - acc: 0.9871 - val_loss: 0.8373 - val_acc: 0.9065\n",
      "Epoch 98/128\n",
      "18/18 [==============================] - 3s 159ms/step - loss: 0.0823 - acc: 0.9840 - val_loss: 0.8266 - val_acc: 0.9124\n",
      "Epoch 99/128\n",
      "18/18 [==============================] - 3s 160ms/step - loss: 0.1089 - acc: 0.9792 - val_loss: 0.9264 - val_acc: 0.9043\n",
      "Epoch 100/128\n",
      "18/18 [==============================] - 3s 162ms/step - loss: 0.0737 - acc: 0.9852 - val_loss: 0.8460 - val_acc: 0.9113\n",
      "Epoch 101/128\n",
      "18/18 [==============================] - 3s 162ms/step - loss: 0.0935 - acc: 0.9818 - val_loss: 0.7428 - val_acc: 0.9155\n",
      "Epoch 102/128\n",
      "18/18 [==============================] - 3s 168ms/step - loss: 0.1021 - acc: 0.9820 - val_loss: 0.8073 - val_acc: 0.9099\n",
      "Epoch 103/128\n",
      "18/18 [==============================] - 3s 162ms/step - loss: 0.0605 - acc: 0.9869 - val_loss: 0.7799 - val_acc: 0.9194\n",
      "Epoch 104/128\n",
      "18/18 [==============================] - 3s 169ms/step - loss: 0.0816 - acc: 0.9829 - val_loss: 0.8607 - val_acc: 0.9046\n",
      "Epoch 105/128\n",
      "18/18 [==============================] - 3s 168ms/step - loss: 0.1028 - acc: 0.9808 - val_loss: 0.8593 - val_acc: 0.9079\n",
      "Epoch 106/128\n",
      "18/18 [==============================] - 3s 163ms/step - loss: 0.0759 - acc: 0.9848 - val_loss: 0.9215 - val_acc: 0.9035\n",
      "Epoch 107/128\n",
      "18/18 [==============================] - 3s 164ms/step - loss: 0.0737 - acc: 0.9843 - val_loss: 0.9072 - val_acc: 0.8982\n",
      "Epoch 108/128\n",
      "18/18 [==============================] - 3s 167ms/step - loss: 0.0950 - acc: 0.9806 - val_loss: 0.7932 - val_acc: 0.9171\n",
      "Epoch 109/128\n",
      "18/18 [==============================] - 3s 168ms/step - loss: 0.0698 - acc: 0.9860 - val_loss: 0.9323 - val_acc: 0.9099\n",
      "Epoch 110/128\n",
      "18/18 [==============================] - 3s 164ms/step - loss: 0.0774 - acc: 0.9842 - val_loss: 0.7660 - val_acc: 0.9202\n",
      "Epoch 111/128\n",
      "18/18 [==============================] - 3s 160ms/step - loss: 0.0720 - acc: 0.9868 - val_loss: 1.0628 - val_acc: 0.8962\n",
      "Epoch 112/128\n",
      "18/18 [==============================] - 3s 160ms/step - loss: 0.0913 - acc: 0.9831 - val_loss: 0.8556 - val_acc: 0.9107\n",
      "Epoch 113/128\n",
      "18/18 [==============================] - 3s 175ms/step - loss: 0.0775 - acc: 0.9844 - val_loss: 0.7930 - val_acc: 0.9196\n",
      "Epoch 114/128\n",
      "18/18 [==============================] - 3s 170ms/step - loss: 0.0874 - acc: 0.9824 - val_loss: 0.9552 - val_acc: 0.9043\n",
      "Epoch 115/128\n",
      "18/18 [==============================] - 3s 174ms/step - loss: 0.0792 - acc: 0.9864 - val_loss: 0.8441 - val_acc: 0.9138\n",
      "Epoch 116/128\n",
      "18/18 [==============================] - 3s 161ms/step - loss: 0.0767 - acc: 0.9836 - val_loss: 0.8369 - val_acc: 0.9155\n",
      "Epoch 117/128\n",
      "18/18 [==============================] - 3s 163ms/step - loss: 0.0719 - acc: 0.9882 - val_loss: 0.9359 - val_acc: 0.9090\n",
      "Epoch 118/128\n",
      "18/18 [==============================] - 3s 164ms/step - loss: 0.1062 - acc: 0.9819 - val_loss: 0.8198 - val_acc: 0.9199\n",
      "Epoch 119/128\n",
      "18/18 [==============================] - 3s 160ms/step - loss: 0.0985 - acc: 0.9848 - val_loss: 0.8492 - val_acc: 0.9127\n",
      "Epoch 120/128\n",
      "18/18 [==============================] - 3s 163ms/step - loss: 0.0693 - acc: 0.9871 - val_loss: 0.8149 - val_acc: 0.9196\n",
      "Epoch 121/128\n"
     ]
    },
    {
     "name": "stdout",
     "output_type": "stream",
     "text": [
      "18/18 [==============================] - 3s 165ms/step - loss: 0.1110 - acc: 0.9809 - val_loss: 0.8638 - val_acc: 0.9107\n",
      "Epoch 122/128\n",
      "18/18 [==============================] - 3s 159ms/step - loss: 0.0673 - acc: 0.9863 - val_loss: 0.7966 - val_acc: 0.9194\n",
      "Epoch 123/128\n",
      "18/18 [==============================] - 3s 161ms/step - loss: 0.0656 - acc: 0.9871 - val_loss: 0.8779 - val_acc: 0.9143\n",
      "Epoch 124/128\n",
      "18/18 [==============================] - 3s 164ms/step - loss: 0.1068 - acc: 0.9818 - val_loss: 0.8191 - val_acc: 0.9199\n",
      "Epoch 125/128\n",
      "18/18 [==============================] - 3s 165ms/step - loss: 0.0764 - acc: 0.9850 - val_loss: 0.9376 - val_acc: 0.9085\n",
      "Epoch 126/128\n",
      "18/18 [==============================] - 3s 157ms/step - loss: 0.0656 - acc: 0.9889 - val_loss: 0.8149 - val_acc: 0.9166\n",
      "Epoch 127/128\n",
      "18/18 [==============================] - 3s 161ms/step - loss: 0.0927 - acc: 0.9845 - val_loss: 0.9259 - val_acc: 0.9040\n",
      "Epoch 128/128\n",
      "18/18 [==============================] - 3s 161ms/step - loss: 0.1249 - acc: 0.9793 - val_loss: 0.7224 - val_acc: 0.9191\n"
     ]
    }
   ],
   "source": [
    "history = model.fit_generator(generator=train_gen, steps_per_epoch=train_num_batches,\n",
    "                              epochs=NUM_EPOCHS,\n",
    "                              verbose=1, validation_data=test_gen, validation_steps=test_num_batches,\n",
    "                              callbacks=[checkpoint])"
   ]
  },
  {
   "cell_type": "code",
   "execution_count": 16,
   "metadata": {},
   "outputs": [
    {
     "data": {
      "image/png": "[encoded data removed]",
      "text/plain": [
       "<Figure size 432x288 with 1 Axes>"
      ]
     },
     "metadata": {},
     "output_type": "display_data"
    },
    {
     "data": {
      "image/png": "[encoded data removed]",
      "text/plain": [
       "<Figure size 432x288 with 1 Axes>"
      ]
     },
     "metadata": {},
     "output_type": "display_data"
    }
   ],
   "source": [
    "# summarize history for accuracy\n",
    "plt.plot(history.history['acc'])\n",
    "plt.plot(history.history['val_acc'])\n",
    "plt.title('model accuracy')\n",
    "plt.ylabel('accuracy')\n",
    "plt.xlabel('epoch')\n",
    "plt.legend(['train', 'test'], loc='upper left')\n",
    "plt.show()\n",
    "# summarize history for loss\n",
    "plt.plot(history.history['loss'])\n",
    "plt.plot(history.history['val_loss'])\n",
    "plt.title('model loss')\n",
    "plt.ylabel('loss')\n",
    "plt.xlabel('epoch')\n",
    "plt.legend(['train', 'test'], loc='upper left')\n",
    "plt.show()"
   ]
  },
  {
   "cell_type": "code",
   "execution_count": null,
   "metadata": {},
   "outputs": [],
   "source": []
  },
  {
   "cell_type": "code",
   "execution_count": null,
   "metadata": {},
   "outputs": [],
   "source": []
  },
  {
   "cell_type": "code",
   "execution_count": null,
   "metadata": {},
   "outputs": [],
   "source": []
  },
  {
   "cell_type": "code",
   "execution_count": null,
   "metadata": {},
   "outputs": [],
   "source": []
  },
  {
   "cell_type": "code",
   "execution_count": null,
   "metadata": {},
   "outputs": [],
   "source": []
  },
  {
   "cell_type": "code",
   "execution_count": null,
   "metadata": {},
   "outputs": [],
   "source": []
  },
  {
   "cell_type": "code",
   "execution_count": null,
   "metadata": {},
   "outputs": [],
   "source": []
  },
  {
   "cell_type": "code",
   "execution_count": null,
   "metadata": {},
   "outputs": [],
   "source": []
  }
 ],
 "metadata": {
  "kernelspec": {
   "display_name": "Python 3",
   "language": "python",
   "name": "python3"
  },
  "language_info": {
   "codemirror_mode": {
    "name": "ipython",
    "version": 3
   },
   "file_extension": ".py",
   "mimetype": "text/x-python",
   "name": "python",
   "nbconvert_exporter": "python",
   "pygments_lexer": "ipython3",
   "version": "3.6.8"
  }
 },
 "nbformat": 4,
 "nbformat_minor": 2
}
